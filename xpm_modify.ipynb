{
 "cells": [
  {
   "cell_type": "code",
   "execution_count": null,
   "metadata": {},
   "outputs": [],
   "source": [
    "import sys\n",
    "import numpy\n",
    "import os"
   ]
  },
  {
   "cell_type": "code",
   "execution_count": 18,
   "metadata": {},
   "outputs": [],
   "source": [
    "\n",
    "\n",
    "dir= '/Users/ibrahimimam/Desktop/Paper_materials/protein/sim_out/L858R-L792H/'\n",
    "input_file = f'{dir}L858R-L792H-ss.xpm'\n",
    "name=\"L858R-L792H\"\n",
    "#output_file = f'{dir}{name}-all-ss.xpm'\n",
    "output_file = f'{dir}{name}-748-ss.xpm'\n",
    "#output_file = f'{dir}{name}-862-ss.xpm'\n",
    "\n",
    "#n_terminal = [x for x in range(1,269)]\n",
    "n_terminal = [x for x in range(37,55)]\n",
    "#n_terminal = [x for x in range(151,166)]\n",
    "\n",
    "\n",
    "count = 0\n",
    "with open(input_file, 'r+') as r:  \n",
    "    lines = r.readlines()\n",
    "    # print(lines)\n",
    "    residue_ss = {i:res for i,res in enumerate(lines) if (\"/*\" not in res.strip(' \\n') or \"*/\" not in res.strip(' \\n')) and \"static \" not in res.strip(' \\n') and i > 10}  # grab only the lines containing residue info\n",
    "    \n",
    "    # The xpm is in reverse order so the residue IDs have to be corrected.\n",
    "    residue_id = [x for x in range(1,269)]\n",
    "    # print(residue_id)\n",
    "    residue_id.sort(reverse=True)\n",
    "    # print(residue_id)\n",
    "    residue_ss = dict(zip(residue_id, residue_ss.values()))\n",
    "    #print(residue_ss)\n",
    "\n",
    "\n",
    "# Write everything before the y-axis section\n",
    "with open(output_file, 'w') as w:\n",
    "    for line_w in lines:\n",
    "        strip_line_w = line_w.strip(' \\n')\n",
    "        if \"y-axis\" not in strip_line_w:\n",
    "            w.write(line_w)\n",
    "            #print(line_w)\n",
    "        else:\n",
    "            break\n",
    "\n",
    "\n",
    "    # Write the y-axis section\n",
    "    y_axis_str = \"/* y-axis: \"\n",
    "    y_axis_str_end = \" */\\n\"\n",
    "    y_axis = \" \"\n",
    "    for num in n_terminal:\n",
    "        y_axis_str = y_axis_str.__add__(f\" {num+711}\") \n",
    "\n",
    "\n",
    "    y_axis_str = y_axis_str.__add__(y_axis_str_end)\n",
    "    w.write(y_axis_str)\n",
    "\n",
    "    n_terminal.sort(reverse=True)\n",
    "\n",
    "    # write the secondary structure for the portion of interest\n",
    "    for x in n_terminal:                \n",
    "        if x == n_terminal[-1]:\n",
    "            w.write(residue_ss[x][:-2])\n",
    "        else:\n",
    "            w.write(residue_ss[x])"
   ]
  },
  {
   "cell_type": "code",
   "execution_count": null,
   "metadata": {},
   "outputs": [],
   "source": []
  },
  {
   "cell_type": "code",
   "execution_count": 6,
   "metadata": {},
   "outputs": [
    {
     "data": {
      "text/plain": [
       "[range(2, 6)]"
      ]
     },
     "execution_count": 6,
     "metadata": {},
     "output_type": "execute_result"
    }
   ],
   "source": []
  }
 ],
 "metadata": {
  "kernelspec": {
   "display_name": "base",
   "language": "python",
   "name": "python3"
  },
  "language_info": {
   "codemirror_mode": {
    "name": "ipython",
    "version": 3
   },
   "file_extension": ".py",
   "mimetype": "text/x-python",
   "name": "python",
   "nbconvert_exporter": "python",
   "pygments_lexer": "ipython3",
   "version": "3.9.13"
  },
  "orig_nbformat": 4
 },
 "nbformat": 4,
 "nbformat_minor": 2
}
